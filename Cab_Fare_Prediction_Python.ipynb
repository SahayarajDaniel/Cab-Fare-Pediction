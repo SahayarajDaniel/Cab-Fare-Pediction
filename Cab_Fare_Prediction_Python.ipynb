{
 "cells": [
  {
   "cell_type": "code",
   "execution_count": 2,
   "metadata": {},
   "outputs": [],
   "source": [
    "#Load libraries\\n\",\n",
    "import os\n",
    "import pandas as pd\n",
    "import numpy as np\n",
    "import matplotlib.pyplot as plt\n",
    "import seaborn as sns\n",
    "from datetime import datetime\n",
    "import calendar\n",
    "from geopy.distance import geodesic\n",
    "from math import radians, sin, cos, acos\n",
    "import math\n",
    "import sklearn\n",
    "from sklearn.model_selection import train_test_split\n",
    "from sklearn.tree import DecisionTreeRegressor\n",
    "from sklearn.ensemble import RandomForestRegressor\n",
    "#Import libraries for LR\n",
    "import statsmodels.api as sm\n",
    "import statistics"
   ]
  },
  {
   "cell_type": "code",
   "execution_count": 3,
   "metadata": {},
   "outputs": [],
   "source": [
    "#Set working directory\n",
    "os.chdir(\"E:\\EDW\\Projects\\Cab Fare Prediction\")\n",
    "#os.getcwd()\n",
    "#'E:\\\\EDW\\\\Projects\\\\Cab Fare Prediction'"
   ]
  },
  {
   "cell_type": "code",
   "execution_count": 4,
   "metadata": {},
   "outputs": [],
   "source": [
    "#Load Data\n",
    "cab_data_train = pd.read_csv(\"train_cab_data.csv\")\n",
    "cab_data_test = pd.read_csv(\"test_cab_data.csv\")"
   ]
  },
  {
   "cell_type": "code",
   "execution_count": 5,
   "metadata": {
    "scrolled": true
   },
   "outputs": [],
   "source": [
    "\n",
    "min_longitude = min(min(cab_data_test['pickup_longitude']), min(cab_data_test['dropoff_longitude']))\n",
    "max_longitude = max(max(cab_data_test['pickup_longitude']), max(cab_data_test['dropoff_longitude']))\n",
    "min_latitude = min(min(cab_data_test['pickup_latitude']), min(cab_data_test['dropoff_latitude']))\n",
    "max_latitude = max(max(cab_data_test['pickup_latitude']), max(cab_data_test['dropoff_latitude']))\n",
    "max_passenger_count = max(cab_data_test['passenger_count'])\n",
    "min_passenger_count = min(cab_data_test['passenger_count'])"
   ]
  },
  {
   "cell_type": "code",
   "execution_count": 6,
   "metadata": {},
   "outputs": [],
   "source": [
    "#converting to datetime format\n",
    "cab_data_train = cab_data_train.sort_values(by = ['pickup_datetime'], ascending = False)\n",
    "cab_data_train = cab_data_train.iloc[1:]\n",
    "cab_data_train['pickup_datetime'] = pd.to_datetime(cab_data_train.pickup_datetime, format = '%Y-%m-%d %H:%M:%S UTC')\n",
    "cab_data_train['fare_amount'] = pd.to_numeric(cab_data_train['fare_amount'], errors='coerce')\n",
    "\n",
    "#Extrapolating time/day/month details\n",
    "cab_data_train['pickup_date']= cab_data_train['pickup_datetime'].dt.date\n",
    "cab_data_train['pickup_day']=cab_data_train['pickup_datetime'].apply(lambda x:x.day)\n",
    "cab_data_train['pickup_hour']=cab_data_train['pickup_datetime'].apply(lambda x:x.hour)\n",
    "cab_data_train['pickup_day_of_week']=cab_data_train['pickup_datetime'].apply(lambda x:calendar.day_name[x.weekday()])\n",
    "cab_data_train['pickup_month']=cab_data_train['pickup_datetime'].apply(lambda x:x.month)\n",
    "cab_data_train['pickup_year']=cab_data_train['pickup_datetime'].apply(lambda x:x.year)\n",
    "\n",
    "#calculate trip distance in Kms\n",
    "def distance(lat1, lat2, lon1,lon2):\n",
    "    p = 0.017453292519943295 # Pi/180\n",
    "    a = 0.5 - np.cos((lat2 - lat1) * p)/2 + np.cos(lat1 * p) * np.cos(lat2 * p) * (1 - np.cos((lon2 - lon1) * p)) / 2\n",
    "    return 12742 * np.arcsin(np.sqrt(a))\n",
    "\n",
    "cab_data_train['trip_distance']=cab_data_train.apply(lambda row:distance(row['pickup_latitude'],row['dropoff_latitude'],row['pickup_longitude'],row['dropoff_longitude']),axis=1)"
   ]
  },
  {
   "cell_type": "code",
   "execution_count": 7,
   "metadata": {},
   "outputs": [
    {
     "data": {
      "text/html": [
       "<div>\n",
       "<style scoped>\n",
       "    .dataframe tbody tr th:only-of-type {\n",
       "        vertical-align: middle;\n",
       "    }\n",
       "\n",
       "    .dataframe tbody tr th {\n",
       "        vertical-align: top;\n",
       "    }\n",
       "\n",
       "    .dataframe thead th {\n",
       "        text-align: right;\n",
       "    }\n",
       "</style>\n",
       "<table border=\"1\" class=\"dataframe\">\n",
       "  <thead>\n",
       "    <tr style=\"text-align: right;\">\n",
       "      <th></th>\n",
       "      <th>Variable</th>\n",
       "      <th>Missing Values</th>\n",
       "      <th>Missing_Percentage</th>\n",
       "    </tr>\n",
       "  </thead>\n",
       "  <tbody>\n",
       "    <tr>\n",
       "      <th>6</th>\n",
       "      <td>passenger_count</td>\n",
       "      <td>55</td>\n",
       "      <td>0.342338</td>\n",
       "    </tr>\n",
       "    <tr>\n",
       "      <th>0</th>\n",
       "      <td>fare_amount</td>\n",
       "      <td>25</td>\n",
       "      <td>0.155608</td>\n",
       "    </tr>\n",
       "    <tr>\n",
       "      <th>1</th>\n",
       "      <td>pickup_datetime</td>\n",
       "      <td>0</td>\n",
       "      <td>0.000000</td>\n",
       "    </tr>\n",
       "    <tr>\n",
       "      <th>2</th>\n",
       "      <td>pickup_longitude</td>\n",
       "      <td>0</td>\n",
       "      <td>0.000000</td>\n",
       "    </tr>\n",
       "    <tr>\n",
       "      <th>3</th>\n",
       "      <td>pickup_latitude</td>\n",
       "      <td>0</td>\n",
       "      <td>0.000000</td>\n",
       "    </tr>\n",
       "    <tr>\n",
       "      <th>4</th>\n",
       "      <td>dropoff_longitude</td>\n",
       "      <td>0</td>\n",
       "      <td>0.000000</td>\n",
       "    </tr>\n",
       "    <tr>\n",
       "      <th>5</th>\n",
       "      <td>dropoff_latitude</td>\n",
       "      <td>0</td>\n",
       "      <td>0.000000</td>\n",
       "    </tr>\n",
       "    <tr>\n",
       "      <th>7</th>\n",
       "      <td>pickup_date</td>\n",
       "      <td>0</td>\n",
       "      <td>0.000000</td>\n",
       "    </tr>\n",
       "    <tr>\n",
       "      <th>8</th>\n",
       "      <td>pickup_day</td>\n",
       "      <td>0</td>\n",
       "      <td>0.000000</td>\n",
       "    </tr>\n",
       "    <tr>\n",
       "      <th>9</th>\n",
       "      <td>pickup_hour</td>\n",
       "      <td>0</td>\n",
       "      <td>0.000000</td>\n",
       "    </tr>\n",
       "    <tr>\n",
       "      <th>10</th>\n",
       "      <td>pickup_day_of_week</td>\n",
       "      <td>0</td>\n",
       "      <td>0.000000</td>\n",
       "    </tr>\n",
       "    <tr>\n",
       "      <th>11</th>\n",
       "      <td>pickup_month</td>\n",
       "      <td>0</td>\n",
       "      <td>0.000000</td>\n",
       "    </tr>\n",
       "    <tr>\n",
       "      <th>12</th>\n",
       "      <td>pickup_year</td>\n",
       "      <td>0</td>\n",
       "      <td>0.000000</td>\n",
       "    </tr>\n",
       "    <tr>\n",
       "      <th>13</th>\n",
       "      <td>trip_distance</td>\n",
       "      <td>0</td>\n",
       "      <td>0.000000</td>\n",
       "    </tr>\n",
       "  </tbody>\n",
       "</table>\n",
       "</div>"
      ],
      "text/plain": [
       "              Variable  Missing Values  Missing_Percentage\n",
       "6      passenger_count              55            0.342338\n",
       "0          fare_amount              25            0.155608\n",
       "1      pickup_datetime               0            0.000000\n",
       "2     pickup_longitude               0            0.000000\n",
       "3      pickup_latitude               0            0.000000\n",
       "4    dropoff_longitude               0            0.000000\n",
       "5     dropoff_latitude               0            0.000000\n",
       "7          pickup_date               0            0.000000\n",
       "8           pickup_day               0            0.000000\n",
       "9          pickup_hour               0            0.000000\n",
       "10  pickup_day_of_week               0            0.000000\n",
       "11        pickup_month               0            0.000000\n",
       "12         pickup_year               0            0.000000\n",
       "13       trip_distance               0            0.000000"
      ]
     },
     "execution_count": 7,
     "metadata": {},
     "output_type": "execute_result"
    }
   ],
   "source": [
    "#Missing Values before Outlier removal\n",
    "missing_value_b = pd.DataFrame(cab_data_train.isnull().sum()).reset_index().rename(columns = {'index' : 'Variable', 0: 'Missing Values'})\n",
    "missing_value_b['Missing_Percentage'] = (missing_value_b['Missing Values'])/(len(cab_data_train))*100\n",
    "missing_value_b.sort_values(by = ['Missing Values'], ascending = False)"
   ]
  },
  {
   "cell_type": "code",
   "execution_count": 8,
   "metadata": {},
   "outputs": [],
   "source": [
    "#removing negligible na values\n",
    "cab_data_train = cab_data_train.loc[~((cab_data_train.fare_amount.isnull() == True) | (cab_data_train.passenger_count.isnull() == True))]"
   ]
  },
  {
   "cell_type": "code",
   "execution_count": 9,
   "metadata": {},
   "outputs": [
    {
     "data": {
      "text/plain": [
       "{'whiskers': [<matplotlib.lines.Line2D at 0x1fefec3add8>,\n",
       "  <matplotlib.lines.Line2D at 0x1fefec3ae80>],\n",
       " 'caps': [<matplotlib.lines.Line2D at 0x1fefec1b4a8>,\n",
       "  <matplotlib.lines.Line2D at 0x1fefec1b7f0>],\n",
       " 'boxes': [<matplotlib.lines.Line2D at 0x1fefec3a9b0>],\n",
       " 'medians': [<matplotlib.lines.Line2D at 0x1fefec1bb38>],\n",
       " 'fliers': [<matplotlib.lines.Line2D at 0x1fefec1be80>],\n",
       " 'means': []}"
      ]
     },
     "execution_count": 9,
     "metadata": {},
     "output_type": "execute_result"
    },
    {
     "data": {
      "image/png": "[encoded data removed]",
      "text/plain": [
       "<Figure size 432x288 with 1 Axes>"
      ]
     },
     "metadata": {
      "needs_background": "light"
     },
     "output_type": "display_data"
    }
   ],
   "source": [
    "#Plot boxplot to visualize Outliers\\n\",\n",
    "%matplotlib inline\n",
    "plt.boxplot(cab_data_train['fare_amount'])"
   ]
  },
  {
   "cell_type": "code",
   "execution_count": 10,
   "metadata": {},
   "outputs": [
    {
     "data": {
      "text/plain": [
       "{'whiskers': [<matplotlib.lines.Line2D at 0x1fe806e98d0>,\n",
       "  <matplotlib.lines.Line2D at 0x1fe806e9c18>],\n",
       " 'caps': [<matplotlib.lines.Line2D at 0x1fe806e9f60>,\n",
       "  <matplotlib.lines.Line2D at 0x1fe806e02e8>],\n",
       " 'boxes': [<matplotlib.lines.Line2D at 0x1fe806e94e0>],\n",
       " 'medians': [<matplotlib.lines.Line2D at 0x1fe806e0630>],\n",
       " 'fliers': [<matplotlib.lines.Line2D at 0x1fe806e0978>],\n",
       " 'means': []}"
      ]
     },
     "execution_count": 10,
     "metadata": {},
     "output_type": "execute_result"
    },
    {
     "data": {
      "image/png": "[encoded data removed]",
      "text/plain": [
       "<Figure size 432x288 with 1 Axes>"
      ]
     },
     "metadata": {
      "needs_background": "light"
     },
     "output_type": "display_data"
    }
   ],
   "source": [
    "plt.boxplot(cab_data_train['passenger_count'])"
   ]
  },
  {
   "cell_type": "code",
   "execution_count": 11,
   "metadata": {},
   "outputs": [
    {
     "data": {
      "text/plain": [
       "{'whiskers': [<matplotlib.lines.Line2D at 0x1fe800b7390>,\n",
       "  <matplotlib.lines.Line2D at 0x1fe800b76d8>],\n",
       " 'caps': [<matplotlib.lines.Line2D at 0x1fe800b7a20>,\n",
       "  <matplotlib.lines.Line2D at 0x1fe800b7d68>],\n",
       " 'boxes': [<matplotlib.lines.Line2D at 0x1fe800aef60>],\n",
       " 'medians': [<matplotlib.lines.Line2D at 0x1fe800b7e10>],\n",
       " 'fliers': [<matplotlib.lines.Line2D at 0x1fe800c0438>],\n",
       " 'means': []}"
      ]
     },
     "execution_count": 11,
     "metadata": {},
     "output_type": "execute_result"
    },
    {
     "data": {
      "image/png": "[encoded data removed]",
      "text/plain": [
       "<Figure size 432x288 with 1 Axes>"
      ]
     },
     "metadata": {
      "needs_background": "light"
     },
     "output_type": "display_data"
    }
   ],
   "source": [
    "plt.boxplot(cab_data_train['trip_distance'])"
   ]
  },
  {
   "cell_type": "code",
   "execution_count": 12,
   "metadata": {},
   "outputs": [],
   "source": [
    "#removing Outlier values\n",
    "cab_data_train = cab_data_train.loc[~((cab_data_train.pickup_latitude==0) | (cab_data_train.pickup_longitude)==0 | (cab_data_train.dropoff_latitude==0)|(cab_data_train.dropoff_longitude==0))]\n",
    "cab_data_train = cab_data_train.loc[~((cab_data_train['pickup_longitude'] > max_longitude) | (cab_data_train['pickup_longitude'] < min_longitude) |\n",
    "                    (cab_data_train['pickup_latitude'] > max_latitude) | (cab_data_train['pickup_latitude'] < min_latitude) |\n",
    "                    (cab_data_train['dropoff_longitude'] > max_longitude) | (cab_data_train['dropoff_longitude'] < min_longitude) |\n",
    "                    (cab_data_train['dropoff_latitude'] > max_latitude) | (cab_data_train['dropoff_latitude'] < min_latitude))]\n",
    "cab_data_train = cab_data_train.loc[~((cab_data_train['passenger_count'] > max_passenger_count) | (cab_data_train['passenger_count'] < min_passenger_count))]\n",
    "cab_data_train = cab_data_train.loc[~(cab_data_train['fare_amount'] < 0)]\n",
    "\n",
    "#removing negligible na values\n",
    "cab_data_train = cab_data_train.loc[~((cab_data_train.fare_amount.isnull() == True) | (cab_data_train.passenger_count.isnull() == True))]"
   ]
  },
  {
   "cell_type": "code",
   "execution_count": 13,
   "metadata": {},
   "outputs": [
    {
     "name": "stdout",
     "output_type": "stream",
     "text": [
      "fare_amount\n",
      "-3.75\n",
      "22.25\n",
      "trip_distance\n",
      "-1.9389169500983117\n",
      "6.437880907475156\n"
     ]
    }
   ],
   "source": [
    "#Identifying Outlier values in Fare_amount and removing it\n",
    "cnames = [\"fare_amount\", \"trip_distance\"]\n",
    "\n",
    "for i in cnames:\n",
    "    q75, q25 = np.percentile(cab_data_train.loc[:, i], [75 ,25])\n",
    "    iqr = q75 - q25\n",
    "    min = q25 - (iqr*1.5)\n",
    "    max = q75 + (iqr*1.5)\n",
    "    print(i)\n",
    "    print(min)\n",
    "    print(max)\n",
    "\n",
    "    cab_data_train = cab_data_train.drop(cab_data_train[cab_data_train.loc[:,i] < min].index)\n",
    "    cab_data_train = cab_data_train.drop(cab_data_train[cab_data_train.loc[:,i] > max].index)"
   ]
  },
  {
   "cell_type": "code",
   "execution_count": 14,
   "metadata": {},
   "outputs": [
    {
     "data": {
      "text/plain": [
       "{'whiskers': [<matplotlib.lines.Line2D at 0x1fe80259550>,\n",
       "  <matplotlib.lines.Line2D at 0x1fe802578d0>],\n",
       " 'caps': [<matplotlib.lines.Line2D at 0x1fe80255198>,\n",
       "  <matplotlib.lines.Line2D at 0x1fe80253c18>],\n",
       " 'boxes': [<matplotlib.lines.Line2D at 0x1fe8025bc18>],\n",
       " 'medians': [<matplotlib.lines.Line2D at 0x1fe80250748>],\n",
       " 'fliers': [<matplotlib.lines.Line2D at 0x1fe8024ca90>],\n",
       " 'means': []}"
      ]
     },
     "execution_count": 14,
     "metadata": {},
     "output_type": "execute_result"
    },
    {
     "data": {
      "image/png": "[encoded data removed]",
      "text/plain": [
       "<Figure size 432x288 with 1 Axes>"
      ]
     },
     "metadata": {
      "needs_background": "light"
     },
     "output_type": "display_data"
    }
   ],
   "source": [
    "plt.boxplot(cab_data_train['fare_amount'])"
   ]
  },
  {
   "cell_type": "code",
   "execution_count": 15,
   "metadata": {},
   "outputs": [
    {
     "data": {
      "text/plain": [
       "{'whiskers': [<matplotlib.lines.Line2D at 0x1fe801dd4a8>,\n",
       "  <matplotlib.lines.Line2D at 0x1fe801d9a20>],\n",
       " 'caps': [<matplotlib.lines.Line2D at 0x1fe801d7a20>,\n",
       "  <matplotlib.lines.Line2D at 0x1fe801d3748>],\n",
       " 'boxes': [<matplotlib.lines.Line2D at 0x1fe801ddcc0>],\n",
       " 'medians': [<matplotlib.lines.Line2D at 0x1fe801d2b70>],\n",
       " 'fliers': [<matplotlib.lines.Line2D at 0x1fe801cef60>],\n",
       " 'means': []}"
      ]
     },
     "execution_count": 15,
     "metadata": {},
     "output_type": "execute_result"
    },
    {
     "data": {
      "image/png": "[encoded data removed]",
      "text/plain": [
       "<Figure size 432x288 with 1 Axes>"
      ]
     },
     "metadata": {
      "needs_background": "light"
     },
     "output_type": "display_data"
    }
   ],
   "source": [
    "plt.boxplot(cab_data_train['trip_distance'])"
   ]
  },
  {
   "cell_type": "code",
   "execution_count": 16,
   "metadata": {},
   "outputs": [
    {
     "data": {
      "text/html": [
       "<div>\n",
       "<style scoped>\n",
       "    .dataframe tbody tr th:only-of-type {\n",
       "        vertical-align: middle;\n",
       "    }\n",
       "\n",
       "    .dataframe tbody tr th {\n",
       "        vertical-align: top;\n",
       "    }\n",
       "\n",
       "    .dataframe thead th {\n",
       "        text-align: right;\n",
       "    }\n",
       "</style>\n",
       "<table border=\"1\" class=\"dataframe\">\n",
       "  <thead>\n",
       "    <tr style=\"text-align: right;\">\n",
       "      <th></th>\n",
       "      <th>Variable</th>\n",
       "      <th>Missing Values</th>\n",
       "      <th>Missing_Percentage</th>\n",
       "    </tr>\n",
       "  </thead>\n",
       "  <tbody>\n",
       "    <tr>\n",
       "      <th>0</th>\n",
       "      <td>fare_amount</td>\n",
       "      <td>0</td>\n",
       "      <td>0.0</td>\n",
       "    </tr>\n",
       "    <tr>\n",
       "      <th>1</th>\n",
       "      <td>pickup_datetime</td>\n",
       "      <td>0</td>\n",
       "      <td>0.0</td>\n",
       "    </tr>\n",
       "    <tr>\n",
       "      <th>2</th>\n",
       "      <td>pickup_longitude</td>\n",
       "      <td>0</td>\n",
       "      <td>0.0</td>\n",
       "    </tr>\n",
       "    <tr>\n",
       "      <th>3</th>\n",
       "      <td>pickup_latitude</td>\n",
       "      <td>0</td>\n",
       "      <td>0.0</td>\n",
       "    </tr>\n",
       "    <tr>\n",
       "      <th>4</th>\n",
       "      <td>dropoff_longitude</td>\n",
       "      <td>0</td>\n",
       "      <td>0.0</td>\n",
       "    </tr>\n",
       "    <tr>\n",
       "      <th>5</th>\n",
       "      <td>dropoff_latitude</td>\n",
       "      <td>0</td>\n",
       "      <td>0.0</td>\n",
       "    </tr>\n",
       "    <tr>\n",
       "      <th>6</th>\n",
       "      <td>passenger_count</td>\n",
       "      <td>0</td>\n",
       "      <td>0.0</td>\n",
       "    </tr>\n",
       "    <tr>\n",
       "      <th>7</th>\n",
       "      <td>pickup_date</td>\n",
       "      <td>0</td>\n",
       "      <td>0.0</td>\n",
       "    </tr>\n",
       "    <tr>\n",
       "      <th>8</th>\n",
       "      <td>pickup_day</td>\n",
       "      <td>0</td>\n",
       "      <td>0.0</td>\n",
       "    </tr>\n",
       "    <tr>\n",
       "      <th>9</th>\n",
       "      <td>pickup_hour</td>\n",
       "      <td>0</td>\n",
       "      <td>0.0</td>\n",
       "    </tr>\n",
       "    <tr>\n",
       "      <th>10</th>\n",
       "      <td>pickup_day_of_week</td>\n",
       "      <td>0</td>\n",
       "      <td>0.0</td>\n",
       "    </tr>\n",
       "    <tr>\n",
       "      <th>11</th>\n",
       "      <td>pickup_month</td>\n",
       "      <td>0</td>\n",
       "      <td>0.0</td>\n",
       "    </tr>\n",
       "    <tr>\n",
       "      <th>12</th>\n",
       "      <td>pickup_year</td>\n",
       "      <td>0</td>\n",
       "      <td>0.0</td>\n",
       "    </tr>\n",
       "    <tr>\n",
       "      <th>13</th>\n",
       "      <td>trip_distance</td>\n",
       "      <td>0</td>\n",
       "      <td>0.0</td>\n",
       "    </tr>\n",
       "  </tbody>\n",
       "</table>\n",
       "</div>"
      ],
      "text/plain": [
       "              Variable  Missing Values  Missing_Percentage\n",
       "0          fare_amount               0                 0.0\n",
       "1      pickup_datetime               0                 0.0\n",
       "2     pickup_longitude               0                 0.0\n",
       "3      pickup_latitude               0                 0.0\n",
       "4    dropoff_longitude               0                 0.0\n",
       "5     dropoff_latitude               0                 0.0\n",
       "6      passenger_count               0                 0.0\n",
       "7          pickup_date               0                 0.0\n",
       "8           pickup_day               0                 0.0\n",
       "9          pickup_hour               0                 0.0\n",
       "10  pickup_day_of_week               0                 0.0\n",
       "11        pickup_month               0                 0.0\n",
       "12         pickup_year               0                 0.0\n",
       "13       trip_distance               0                 0.0"
      ]
     },
     "execution_count": 16,
     "metadata": {},
     "output_type": "execute_result"
    }
   ],
   "source": [
    "#missing_value after removing outliers\n",
    "missing_value_b = pd.DataFrame(cab_data_train.isnull().sum()).reset_index().rename(columns = {'index' : 'Variable', 0: 'Missing Values'})\n",
    "missing_value_b['Missing_Percentage'] = (missing_value_b['Missing Values'])/(len(cab_data_train))*100\n",
    "missing_value_b.sort_values(by = ['Missing Values'], ascending = False)"
   ]
  },
  {
   "cell_type": "code",
   "execution_count": 17,
   "metadata": {
    "scrolled": true
   },
   "outputs": [],
   "source": [
    "# Convert Object field of Weekday to Numeric \n",
    "# creating a dict file  \n",
    "weekday = {'Sunday': 0,'Monday': 1, 'Tuesday':2, 'Wednesday':3, 'Thursday':4, 'Friday':5, 'Saturday':6} \n",
    "\n",
    "cab_data_train.pickup_day_of_week = [weekday[item] for item in cab_data_train.pickup_day_of_week]"
   ]
  },
  {
   "cell_type": "code",
   "execution_count": 18,
   "metadata": {},
   "outputs": [
    {
     "data": {
      "text/plain": [
       "<matplotlib.axes._subplots.AxesSubplot at 0x1fe80268f28>"
      ]
     },
     "execution_count": 18,
     "metadata": {},
     "output_type": "execute_result"
    },
    {
     "data": {
      "image/png": "[encoded data removed]",
      "text/plain": [
       "<Figure size 504x360 with 2 Axes>"
      ]
     },
     "metadata": {
      "needs_background": "light"
     },
     "output_type": "display_data"
    }
   ],
   "source": [
    "##Correlation analysis\n",
    "#Correlation plot\n",
    "df_corr = cab_data_train.loc[:,:]\n",
    "\n",
    "#Set the width and hieght of the plot\n",
    "f, ax = plt.subplots(figsize=(7, 5))\n",
    "#Generate correlation matrix\n",
    "corr = df_corr.corr()\n",
    "\n",
    "#Plot using seaborn library\\n\",\n",
    "sns.heatmap(corr, mask=np.zeros_like(corr, dtype=np.bool), cmap=sns.diverging_palette(220, 10, as_cmap=True),square=True, ax=ax)\n"
   ]
  },
  {
   "cell_type": "code",
   "execution_count": 26,
   "metadata": {},
   "outputs": [
    {
     "data": {
      "text/plain": [
       "'\\n\\n#Chisquare test of independence\\n#Save categorical variables\\nfrom scipy.stats import chi2_contingency\\n\\n#loop for chi square values\\nfor i in cab_data_train.columns:\\n    print(i)\\n    chi2, p, dof, ex = chi2_contingency(pd.crosstab(cab_data_train[\\'fare_amount\\'], cab_data_train[i]))\\n    print(p)\\n    if p < 0.05:\\n        print(i, \"Variable used for predicting\")\\n'"
      ]
     },
     "execution_count": 26,
     "metadata": {},
     "output_type": "execute_result"
    }
   ],
   "source": [
    "\"\"\"\n",
    "\n",
    "#Chisquare test of independence\n",
    "#Save categorical variables\n",
    "from scipy.stats import chi2_contingency\n",
    "\n",
    "#loop for chi square values\n",
    "for i in cab_data_train.columns:\n",
    "    print(i)\n",
    "    chi2, p, dof, ex = chi2_contingency(pd.crosstab(cab_data_train['fare_amount'], cab_data_train[i]))\n",
    "    print(p)\n",
    "    if p < 0.05:\n",
    "        print(i, \"Variable used for predicting\")\n",
    "\"\"\""
   ]
  },
  {
   "cell_type": "code",
   "execution_count": 19,
   "metadata": {},
   "outputs": [],
   "source": [
    "cab_data_train.columns\n",
    "cab_data_train = cab_data_train[['fare_amount', 'pickup_longitude', 'pickup_latitude', 'passenger_count', 'pickup_day', 'pickup_hour', 'pickup_day_of_week',\n",
    "       'pickup_month', 'pickup_year', 'trip_distance']]"
   ]
  },
  {
   "cell_type": "code",
   "execution_count": 20,
   "metadata": {},
   "outputs": [],
   "source": [
    "cab_data_test['fare_amount'] = 0\n",
    "cab_data_test['pickup_datetime'] = pd.to_datetime(cab_data_test.pickup_datetime, format = '%Y-%m-%d %H:%M:%S UTC')\n",
    "cab_data_test['fare_amount'] = pd.to_numeric(cab_data_test['fare_amount'], errors='coerce')\n",
    "\n",
    "#Extrapolating time/day/month details\n",
    "cab_data_test['pickup_date']= cab_data_test['pickup_datetime'].dt.date\n",
    "cab_data_test['pickup_day']=cab_data_test['pickup_datetime'].apply(lambda x:x.day)\n",
    "cab_data_test['pickup_hour']=cab_data_test['pickup_datetime'].apply(lambda x:x.hour)\n",
    "cab_data_test['pickup_day_of_week']=cab_data_test['pickup_datetime'].apply(lambda x:calendar.day_name[x.weekday()])\n",
    "cab_data_test['pickup_month']=cab_data_test['pickup_datetime'].apply(lambda x:x.month)\n",
    "cab_data_test['pickup_year']=cab_data_test['pickup_datetime'].apply(lambda x:x.year)\n",
    "\n",
    "#calculate trip distance in Kms\n",
    "def distance(lat1, lat2, lon1,lon2):\n",
    "    p = 0.017453292519943295 # Pi/180\n",
    "    a = 0.5 - np.cos((lat2 - lat1) * p)/2 + np.cos(lat1 * p) * np.cos(lat2 * p) * (1 - np.cos((lon2 - lon1) * p)) / 2\n",
    "    return 12742 * np.arcsin(np.sqrt(a))\n",
    "\n",
    "cab_data_test['trip_distance']=cab_data_test.apply(lambda row:distance(row['pickup_latitude'],row['dropoff_latitude'],row['pickup_longitude'],row['dropoff_longitude']),axis=1)"
   ]
  },
  {
   "cell_type": "code",
   "execution_count": 21,
   "metadata": {},
   "outputs": [],
   "source": [
    "cab_data_test = cab_data_test[['fare_amount', 'pickup_longitude', 'pickup_latitude', 'passenger_count', 'pickup_day', 'pickup_hour', 'pickup_day_of_week',\n",
    "       'pickup_month', 'pickup_year', 'trip_distance']]"
   ]
  },
  {
   "cell_type": "code",
   "execution_count": 22,
   "metadata": {},
   "outputs": [],
   "source": [
    "\n",
    "#Divide data into train and test\n",
    "train, test = train_test_split(cab_data_train, test_size=0.3)\n"
   ]
  },
  {
   "cell_type": "code",
   "execution_count": 23,
   "metadata": {},
   "outputs": [
    {
     "name": "stdout",
     "output_type": "stream",
     "text": [
      "RMSE  - Decision tree 2.35907410834951\n"
     ]
    }
   ],
   "source": [
    "#######################################################################################################################\n",
    "\n",
    "#Decision tree for regression\n",
    "fit_DT = DecisionTreeRegressor(max_depth=2).fit(train.iloc[:,1:10], train.iloc[:,0])\n",
    "\n",
    "#Apply model on test data\n",
    "predictions_DT = fit_DT.predict(test.iloc[:,1:10])\n",
    "\n",
    "\n",
    "#Calculate RMSE\n",
    "def RMSE(y_true, y_pred): \n",
    "    rmse = math.sqrt(statistics.mean((y_true - y_pred)**2))\n",
    "    return rmse\n",
    "\n",
    "DT_RMSE = RMSE(test.iloc[:,0], predictions_DT)\n",
    "print(\"RMSE  - Decision tree\", DT_RMSE)\n"
   ]
  },
  {
   "cell_type": "code",
   "execution_count": 31,
   "metadata": {},
   "outputs": [
    {
     "name": "stdout",
     "output_type": "stream",
     "text": [
      "RMSE - Random Forest 2.090953636512424\n"
     ]
    }
   ],
   "source": [
    "\n",
    "#Random Forest for regression\n",
    "fit_RF = RandomForestRegressor(bootstrap=True, max_depth=4, random_state=0 ,n_estimators=50).fit(train.iloc[:,1:10], train.iloc[:,0])\n",
    "\n",
    "#Apply model on test data\n",
    "predictions_RF = fit_RF.predict(test.iloc[:,1:10])\n",
    "\n",
    "RF_RMSE = RMSE(test.iloc[:,0], predictions_RF)\n",
    "print(\"RMSE - Random Forest\", RF_RMSE)"
   ]
  },
  {
   "cell_type": "code",
   "execution_count": 26,
   "metadata": {},
   "outputs": [
    {
     "name": "stdout",
     "output_type": "stream",
     "text": [
      "RMSE - Linear Regression  2.1408181209253416\n"
     ]
    }
   ],
   "source": [
    "\n",
    "# Train the model using the training sets\n",
    "linear_model = sm.OLS(train.iloc[:,0], train.iloc[:,1:10]).fit()\n",
    "\n",
    "# Print out the statistics\n",
    "linear_model.summary()\n",
    "\n",
    "# make the predictions by the model\n",
    "predictions_LR = linear_model.predict(test.iloc[:,1:10]) \n",
    "\n",
    "\n",
    "#Calculate MAPE\n",
    "LR_RMSE = RMSE(test.iloc[:,0], predictions_LR)\n",
    "print(\"RMSE - Linear Regression \", LR_RMSE)"
   ]
  },
  {
   "cell_type": "code",
   "execution_count": 27,
   "metadata": {},
   "outputs": [
    {
     "data": {
      "text/html": [
       "<table class=\"simpletable\">\n",
       "<caption>OLS Regression Results</caption>\n",
       "<tr>\n",
       "  <th>Dep. Variable:</th>       <td>fare_amount</td>   <th>  R-squared:         </th> <td>   0.946</td> \n",
       "</tr>\n",
       "<tr>\n",
       "  <th>Model:</th>                   <td>OLS</td>       <th>  Adj. R-squared:    </th> <td>   0.946</td> \n",
       "</tr>\n",
       "<tr>\n",
       "  <th>Method:</th>             <td>Least Squares</td>  <th>  F-statistic:       </th> <td>1.849e+04</td>\n",
       "</tr>\n",
       "<tr>\n",
       "  <th>Date:</th>             <td>Sun, 19 May 2019</td> <th>  Prob (F-statistic):</th>  <td>  0.00</td>  \n",
       "</tr>\n",
       "<tr>\n",
       "  <th>Time:</th>                 <td>17:47:43</td>     <th>  Log-Likelihood:    </th> <td> -20787.</td> \n",
       "</tr>\n",
       "<tr>\n",
       "  <th>No. Observations:</th>      <td>  9500</td>      <th>  AIC:               </th> <td>4.159e+04</td>\n",
       "</tr>\n",
       "<tr>\n",
       "  <th>Df Residuals:</th>          <td>  9491</td>      <th>  BIC:               </th> <td>4.166e+04</td>\n",
       "</tr>\n",
       "<tr>\n",
       "  <th>Df Model:</th>              <td>     9</td>      <th>                     </th>     <td> </td>    \n",
       "</tr>\n",
       "<tr>\n",
       "  <th>Covariance Type:</th>      <td>nonrobust</td>    <th>                     </th>     <td> </td>    \n",
       "</tr>\n",
       "</table>\n",
       "<table class=\"simpletable\">\n",
       "<tr>\n",
       "           <td></td>             <th>coef</th>     <th>std err</th>      <th>t</th>      <th>P>|t|</th>  <th>[0.025</th>    <th>0.975]</th>  \n",
       "</tr>\n",
       "<tr>\n",
       "  <th>pickup_longitude</th>   <td>    7.1068</td> <td>    0.401</td> <td>   17.743</td> <td> 0.000</td> <td>    6.322</td> <td>    7.892</td>\n",
       "</tr>\n",
       "<tr>\n",
       "  <th>pickup_latitude</th>    <td>   -4.8223</td> <td>    0.633</td> <td>   -7.615</td> <td> 0.000</td> <td>   -6.064</td> <td>   -3.581</td>\n",
       "</tr>\n",
       "<tr>\n",
       "  <th>passenger_count</th>    <td>    0.0421</td> <td>    0.018</td> <td>    2.396</td> <td> 0.017</td> <td>    0.008</td> <td>    0.077</td>\n",
       "</tr>\n",
       "<tr>\n",
       "  <th>pickup_day</th>         <td>   -0.0022</td> <td>    0.003</td> <td>   -0.880</td> <td> 0.379</td> <td>   -0.007</td> <td>    0.003</td>\n",
       "</tr>\n",
       "<tr>\n",
       "  <th>pickup_hour</th>        <td>    0.0121</td> <td>    0.003</td> <td>    3.499</td> <td> 0.000</td> <td>    0.005</td> <td>    0.019</td>\n",
       "</tr>\n",
       "<tr>\n",
       "  <th>pickup_day_of_week</th> <td>    0.0514</td> <td>    0.011</td> <td>    4.638</td> <td> 0.000</td> <td>    0.030</td> <td>    0.073</td>\n",
       "</tr>\n",
       "<tr>\n",
       "  <th>pickup_month</th>       <td>    0.0528</td> <td>    0.006</td> <td>    8.167</td> <td> 0.000</td> <td>    0.040</td> <td>    0.066</td>\n",
       "</tr>\n",
       "<tr>\n",
       "  <th>pickup_year</th>        <td>    0.3606</td> <td>    0.012</td> <td>   30.889</td> <td> 0.000</td> <td>    0.338</td> <td>    0.384</td>\n",
       "</tr>\n",
       "<tr>\n",
       "  <th>trip_distance</th>      <td>    2.0382</td> <td>    0.016</td> <td>  131.421</td> <td> 0.000</td> <td>    2.008</td> <td>    2.069</td>\n",
       "</tr>\n",
       "</table>\n",
       "<table class=\"simpletable\">\n",
       "<tr>\n",
       "  <th>Omnibus:</th>       <td>2908.498</td> <th>  Durbin-Watson:     </th> <td>   1.979</td> \n",
       "</tr>\n",
       "<tr>\n",
       "  <th>Prob(Omnibus):</th>  <td> 0.000</td>  <th>  Jarque-Bera (JB):  </th> <td>12097.707</td>\n",
       "</tr>\n",
       "<tr>\n",
       "  <th>Skew:</th>           <td> 1.459</td>  <th>  Prob(JB):          </th> <td>    0.00</td> \n",
       "</tr>\n",
       "<tr>\n",
       "  <th>Kurtosis:</th>       <td> 7.696</td>  <th>  Cond. No.          </th> <td>6.33e+04</td> \n",
       "</tr>\n",
       "</table><br/><br/>Warnings:<br/>[1] Standard Errors assume that the covariance matrix of the errors is correctly specified.<br/>[2] The condition number is large, 6.33e+04. This might indicate that there are<br/>strong multicollinearity or other numerical problems."
      ],
      "text/plain": [
       "<class 'statsmodels.iolib.summary.Summary'>\n",
       "\"\"\"\n",
       "                            OLS Regression Results                            \n",
       "==============================================================================\n",
       "Dep. Variable:            fare_amount   R-squared:                       0.946\n",
       "Model:                            OLS   Adj. R-squared:                  0.946\n",
       "Method:                 Least Squares   F-statistic:                 1.849e+04\n",
       "Date:                Sun, 19 May 2019   Prob (F-statistic):               0.00\n",
       "Time:                        17:47:43   Log-Likelihood:                -20787.\n",
       "No. Observations:                9500   AIC:                         4.159e+04\n",
       "Df Residuals:                    9491   BIC:                         4.166e+04\n",
       "Df Model:                           9                                         \n",
       "Covariance Type:            nonrobust                                         \n",
       "======================================================================================\n",
       "                         coef    std err          t      P>|t|      [0.025      0.975]\n",
       "--------------------------------------------------------------------------------------\n",
       "pickup_longitude       7.1068      0.401     17.743      0.000       6.322       7.892\n",
       "pickup_latitude       -4.8223      0.633     -7.615      0.000      -6.064      -3.581\n",
       "passenger_count        0.0421      0.018      2.396      0.017       0.008       0.077\n",
       "pickup_day            -0.0022      0.003     -0.880      0.379      -0.007       0.003\n",
       "pickup_hour            0.0121      0.003      3.499      0.000       0.005       0.019\n",
       "pickup_day_of_week     0.0514      0.011      4.638      0.000       0.030       0.073\n",
       "pickup_month           0.0528      0.006      8.167      0.000       0.040       0.066\n",
       "pickup_year            0.3606      0.012     30.889      0.000       0.338       0.384\n",
       "trip_distance          2.0382      0.016    131.421      0.000       2.008       2.069\n",
       "==============================================================================\n",
       "Omnibus:                     2908.498   Durbin-Watson:                   1.979\n",
       "Prob(Omnibus):                  0.000   Jarque-Bera (JB):            12097.707\n",
       "Skew:                           1.459   Prob(JB):                         0.00\n",
       "Kurtosis:                       7.696   Cond. No.                     6.33e+04\n",
       "==============================================================================\n",
       "\n",
       "Warnings:\n",
       "[1] Standard Errors assume that the covariance matrix of the errors is correctly specified.\n",
       "[2] The condition number is large, 6.33e+04. This might indicate that there are\n",
       "strong multicollinearity or other numerical problems.\n",
       "\"\"\""
      ]
     },
     "execution_count": 27,
     "metadata": {},
     "output_type": "execute_result"
    }
   ],
   "source": [
    "linear_model.summary()"
   ]
  }
 ],
 "metadata": {
  "kernelspec": {
   "display_name": "Python 3",
   "language": "python",
   "name": "python3"
  },
  "language_info": {
   "codemirror_mode": {
    "name": "ipython",
    "version": 3
   },
   "file_extension": ".py",
   "mimetype": "text/x-python",
   "name": "python",
   "nbconvert_exporter": "python",
   "pygments_lexer": "ipython3",
   "version": "3.7.1"
  }
 },
 "nbformat": 4,
 "nbformat_minor": 2
}
